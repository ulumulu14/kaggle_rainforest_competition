{
  "nbformat": 4,
  "nbformat_minor": 0,
  "metadata": {
    "colab": {
      "name": "rainforest.ipynb",
      "provenance": [],
      "collapsed_sections": []
    },
    "kernelspec": {
      "display_name": "Python 3",
      "language": "python",
      "name": "python3"
    },
    "language_info": {
      "codemirror_mode": {
        "name": "ipython",
        "version": 3
      },
      "file_extension": ".py",
      "mimetype": "text/x-python",
      "name": "python",
      "nbconvert_exporter": "python",
      "pygments_lexer": "ipython3",
      "version": "3.8.5"
    },
    "accelerator": "GPU"
  },
  "cells": [
    {
      "cell_type": "code",
      "metadata": {
        "colab": {
          "base_uri": "https://localhost:8080/"
        },
        "id": "o2mu14Gg_lVV",
        "outputId": "d8aa7503-3fbb-464b-bfe1-090090b3eb77"
      },
      "source": [
        "from google.colab import drive\n",
        "drive.mount('/content/drive')"
      ],
      "execution_count": null,
      "outputs": [
        {
          "output_type": "stream",
          "text": [
            "Drive already mounted at /content/drive; to attempt to forcibly remount, call drive.mount(\"/content/drive\", force_remount=True).\n"
          ],
          "name": "stdout"
        }
      ]
    },
    {
      "cell_type": "code",
      "metadata": {
        "id": "SvQRegq-NGup"
      },
      "source": [
        "pip install -q kaggle"
      ],
      "execution_count": null,
      "outputs": []
    },
    {
      "cell_type": "code",
      "metadata": {
        "id": "pk-xKD-GNVMb"
      },
      "source": [
        "from google.colab import files"
      ],
      "execution_count": null,
      "outputs": []
    },
    {
      "cell_type": "code",
      "metadata": {
        "id": "WbG60psXNWKh"
      },
      "source": [
        "files.upload()"
      ],
      "execution_count": null,
      "outputs": []
    },
    {
      "cell_type": "code",
      "metadata": {
        "colab": {
          "base_uri": "https://localhost:8080/"
        },
        "id": "MLo2pkNuNdWN",
        "outputId": "c92ebeed-c13c-45c4-b3af-5cbfa693237a"
      },
      "source": [
        "mkdir ~/.kaggle"
      ],
      "execution_count": null,
      "outputs": [
        {
          "output_type": "stream",
          "text": [
            "mkdir: cannot create directory ‘/root/.kaggle’: File exists\n"
          ],
          "name": "stdout"
        }
      ]
    },
    {
      "cell_type": "code",
      "metadata": {
        "id": "FzHio9iMOBss"
      },
      "source": [
        "cp kaggle.json ~/.kaggle/"
      ],
      "execution_count": null,
      "outputs": []
    },
    {
      "cell_type": "code",
      "metadata": {
        "id": "8DnVhKjFOD84"
      },
      "source": [
        "!chmod 600 ~/.kaggle/kaggle.json"
      ],
      "execution_count": null,
      "outputs": []
    },
    {
      "cell_type": "code",
      "metadata": {
        "id": "xRnrshWtOGG-"
      },
      "source": [
        "!pip uninstall -y kaggle\n",
        "!pip install --upgrade pip\n",
        "!pip install kaggle==1.5.6"
      ],
      "execution_count": null,
      "outputs": []
    },
    {
      "cell_type": "code",
      "metadata": {
        "colab": {
          "base_uri": "https://localhost:8080/"
        },
        "id": "g5K9f8_eQtUm",
        "outputId": "0c49b7dc-dd93-4109-a7e8-5286ed8b345d"
      },
      "source": [
        "!kaggle competitions download -c rfcx-species-audio-detection -p /content/drive/My\\ Drive/kaggle/rainforest2 --force"
      ],
      "execution_count": null,
      "outputs": [
        {
          "output_type": "stream",
          "text": [
            "Downloading rfcx-species-audio-detection.zip to /content/drive/My Drive/kaggle/rainforest2\n",
            "100% 49.7G/49.7G [14:33<00:00, 48.1MB/s]\n",
            "100% 49.7G/49.7G [14:34<00:00, 61.0MB/s]\n"
          ],
          "name": "stdout"
        }
      ]
    },
    {
      "cell_type": "code",
      "metadata": {
        "id": "dR3YOjaccWv7"
      },
      "source": [
        "import os\n",
        "os.chdir('/content/drive/My Drive/kaggle/rainforest2')  #change dir\n",
        "!mkdir train  #create a directory named train/\n",
        "!mkdir test  #create a directory named test/\n",
        "\n",
        "!unzip /content/drive/MyDrive/kaggle/rainforest2/rfcx-species-audio-detection.zip"
      ],
      "execution_count": null,
      "outputs": []
    },
    {
      "cell_type": "code",
      "metadata": {
        "id": "NbOEwtsFz3cB"
      },
      "source": [
        "for i in range(24):\n",
        "  os.mkdir(f'/content/drive/MyDrive/kaggle/rainforest2/train_melspectrograms/s{str(i)}')"
      ],
      "execution_count": null,
      "outputs": []
    },
    {
      "cell_type": "code",
      "metadata": {
        "id": "-HKwbIvN0Ezp"
      },
      "source": [
        "%pip install noisereduce"
      ],
      "execution_count": null,
      "outputs": []
    },
    {
      "cell_type": "code",
      "metadata": {
        "id": "oimjDm_B32U-"
      },
      "source": [
        "!ls /content/drive/MyDrive/kaggle/rainforest2/"
      ],
      "execution_count": null,
      "outputs": []
    },
    {
      "cell_type": "code",
      "metadata": {
        "id": "_eQmlDXszylz",
        "colab": {
          "base_uri": "https://localhost:8080/"
        },
        "outputId": "cb391edb-a086-4113-e09e-7c78807f4deb"
      },
      "source": [
        "import os\n",
        "import shutil\n",
        "import pathlib\n",
        "import multiprocessing as mp\n",
        "from shutil import copyfile\n",
        "import IPython\n",
        "from PIL import Image\n",
        "from scipy import signal\n",
        "import pandas as pd\n",
        "import numpy as np\n",
        "import matplotlib.pyplot as plt\n",
        "import seaborn as sns\n",
        "from sklearn.model_selection import StratifiedKFold\n",
        "from sklearn.model_selection import GridSearchCV\n",
        "from sklearn.model_selection import RandomizedSearchCV\n",
        "import librosa\n",
        "import librosa.display\n",
        "import soundfile as sf\n",
        "import noisereduce as nr\n",
        "import keras\n",
        "from keras import layers\n",
        "from keras import models\n",
        "from keras import preprocessing\n",
        "from keras import applications"
      ],
      "execution_count": null,
      "outputs": [
        {
          "output_type": "stream",
          "text": [
            "/usr/local/lib/python3.6/dist-packages/noisereduce/noisereduce.py:5: TqdmExperimentalWarning: Using `tqdm.autonotebook.tqdm` in notebook mode. Use `tqdm.tqdm` instead to force console mode (e.g. in jupyter console)\n",
            "  from tqdm.autonotebook import tqdm\n"
          ],
          "name": "stderr"
        }
      ]
    },
    {
      "cell_type": "markdown",
      "metadata": {
        "id": "mRD45Gk2D6za"
      },
      "source": [
        ""
      ]
    },
    {
      "cell_type": "code",
      "metadata": {
        "colab": {
          "base_uri": "https://localhost:8080/"
        },
        "id": "4pHyyD-bD7Hd",
        "outputId": "67773c6a-e4aa-45b7-e65f-6fcb4eb75f61"
      },
      "source": [
        "print(\"Number of processors: \", mp.cpu_count())"
      ],
      "execution_count": null,
      "outputs": [
        {
          "output_type": "stream",
          "text": [
            "Number of processors:  2\n"
          ],
          "name": "stdout"
        }
      ]
    },
    {
      "cell_type": "code",
      "metadata": {
        "id": "OucvxRCk0MAA"
      },
      "source": [
        "#Spectral gating noise removal\n",
        "\n",
        "def denoise(audio_data, sampling_rate, t_min):\n",
        "    noise_interval = [0, int(sampling_rate * t_min)]\n",
        "    noisy_part = audio_data[noise_interval[0]:noise_interval[1]]\n",
        "    denoised_audio = nr.reduce_noise(audio_clip=audio_data, noise_clip=noisy_part)\n",
        "    \n",
        "    return denoised_audio"
      ],
      "execution_count": null,
      "outputs": []
    },
    {
      "cell_type": "code",
      "metadata": {
        "id": "JRYZ6d810R0c"
      },
      "source": [
        "#Butterworth bandpass filter\n",
        "\n",
        "def bandpass_filter(audio_data, sampling_rate, f_min, f_max):\n",
        "    bandpass_filter = signal.butter(4, (0.9*f_min, 1.1*f_max), 'bandpass', fs=sampling_rate, output='sos')\n",
        "    filtered_audio = signal.sosfilt(bandpass_filter, audio_data)\n",
        "    \n",
        "    return filtered_audio"
      ],
      "execution_count": null,
      "outputs": []
    },
    {
      "cell_type": "code",
      "metadata": {
        "colab": {
          "base_uri": "https://localhost:8080/",
          "height": 419
        },
        "id": "2FE5qdUy0T-q",
        "outputId": "1620127b-e38a-49f1-ca05-5e23934efd9b"
      },
      "source": [
        "train_tp = pd.read_csv('/content/drive/MyDrive/kaggle/rainforest2/train_tp.csv')\n",
        "train_tp"
      ],
      "execution_count": null,
      "outputs": [
        {
          "output_type": "execute_result",
          "data": {
            "text/html": [
              "<div>\n",
              "<style scoped>\n",
              "    .dataframe tbody tr th:only-of-type {\n",
              "        vertical-align: middle;\n",
              "    }\n",
              "\n",
              "    .dataframe tbody tr th {\n",
              "        vertical-align: top;\n",
              "    }\n",
              "\n",
              "    .dataframe thead th {\n",
              "        text-align: right;\n",
              "    }\n",
              "</style>\n",
              "<table border=\"1\" class=\"dataframe\">\n",
              "  <thead>\n",
              "    <tr style=\"text-align: right;\">\n",
              "      <th></th>\n",
              "      <th>recording_id</th>\n",
              "      <th>species_id</th>\n",
              "      <th>songtype_id</th>\n",
              "      <th>t_min</th>\n",
              "      <th>f_min</th>\n",
              "      <th>t_max</th>\n",
              "      <th>f_max</th>\n",
              "    </tr>\n",
              "  </thead>\n",
              "  <tbody>\n",
              "    <tr>\n",
              "      <th>0</th>\n",
              "      <td>003bec244</td>\n",
              "      <td>14</td>\n",
              "      <td>1</td>\n",
              "      <td>44.5440</td>\n",
              "      <td>2531.250</td>\n",
              "      <td>45.1307</td>\n",
              "      <td>5531.25</td>\n",
              "    </tr>\n",
              "    <tr>\n",
              "      <th>1</th>\n",
              "      <td>006ab765f</td>\n",
              "      <td>23</td>\n",
              "      <td>1</td>\n",
              "      <td>39.9615</td>\n",
              "      <td>7235.160</td>\n",
              "      <td>46.0452</td>\n",
              "      <td>11283.40</td>\n",
              "    </tr>\n",
              "    <tr>\n",
              "      <th>2</th>\n",
              "      <td>007f87ba2</td>\n",
              "      <td>12</td>\n",
              "      <td>1</td>\n",
              "      <td>39.1360</td>\n",
              "      <td>562.500</td>\n",
              "      <td>42.2720</td>\n",
              "      <td>3281.25</td>\n",
              "    </tr>\n",
              "    <tr>\n",
              "      <th>3</th>\n",
              "      <td>0099c367b</td>\n",
              "      <td>17</td>\n",
              "      <td>4</td>\n",
              "      <td>51.4206</td>\n",
              "      <td>1464.260</td>\n",
              "      <td>55.1996</td>\n",
              "      <td>4565.04</td>\n",
              "    </tr>\n",
              "    <tr>\n",
              "      <th>4</th>\n",
              "      <td>009b760e6</td>\n",
              "      <td>10</td>\n",
              "      <td>1</td>\n",
              "      <td>50.0854</td>\n",
              "      <td>947.461</td>\n",
              "      <td>52.5293</td>\n",
              "      <td>10852.70</td>\n",
              "    </tr>\n",
              "    <tr>\n",
              "      <th>...</th>\n",
              "      <td>...</td>\n",
              "      <td>...</td>\n",
              "      <td>...</td>\n",
              "      <td>...</td>\n",
              "      <td>...</td>\n",
              "      <td>...</td>\n",
              "      <td>...</td>\n",
              "    </tr>\n",
              "    <tr>\n",
              "      <th>1211</th>\n",
              "      <td>fe8d9ac40</td>\n",
              "      <td>13</td>\n",
              "      <td>1</td>\n",
              "      <td>53.4720</td>\n",
              "      <td>93.750</td>\n",
              "      <td>54.0960</td>\n",
              "      <td>843.75</td>\n",
              "    </tr>\n",
              "    <tr>\n",
              "      <th>1212</th>\n",
              "      <td>fea6b438a</td>\n",
              "      <td>4</td>\n",
              "      <td>1</td>\n",
              "      <td>43.5787</td>\n",
              "      <td>2531.250</td>\n",
              "      <td>45.7653</td>\n",
              "      <td>4031.25</td>\n",
              "    </tr>\n",
              "    <tr>\n",
              "      <th>1213</th>\n",
              "      <td>ff2eb9ce5</td>\n",
              "      <td>0</td>\n",
              "      <td>1</td>\n",
              "      <td>15.2267</td>\n",
              "      <td>5906.250</td>\n",
              "      <td>16.0213</td>\n",
              "      <td>8250.00</td>\n",
              "    </tr>\n",
              "    <tr>\n",
              "      <th>1214</th>\n",
              "      <td>ffb8d8391</td>\n",
              "      <td>5</td>\n",
              "      <td>1</td>\n",
              "      <td>14.3467</td>\n",
              "      <td>4781.250</td>\n",
              "      <td>16.6987</td>\n",
              "      <td>10406.20</td>\n",
              "    </tr>\n",
              "    <tr>\n",
              "      <th>1215</th>\n",
              "      <td>ffb9a7b9a</td>\n",
              "      <td>18</td>\n",
              "      <td>1</td>\n",
              "      <td>40.3200</td>\n",
              "      <td>3187.500</td>\n",
              "      <td>41.0133</td>\n",
              "      <td>5062.50</td>\n",
              "    </tr>\n",
              "  </tbody>\n",
              "</table>\n",
              "<p>1216 rows × 7 columns</p>\n",
              "</div>"
            ],
            "text/plain": [
              "     recording_id  species_id  songtype_id  ...     f_min    t_max     f_max\n",
              "0       003bec244          14            1  ...  2531.250  45.1307   5531.25\n",
              "1       006ab765f          23            1  ...  7235.160  46.0452  11283.40\n",
              "2       007f87ba2          12            1  ...   562.500  42.2720   3281.25\n",
              "3       0099c367b          17            4  ...  1464.260  55.1996   4565.04\n",
              "4       009b760e6          10            1  ...   947.461  52.5293  10852.70\n",
              "...           ...         ...          ...  ...       ...      ...       ...\n",
              "1211    fe8d9ac40          13            1  ...    93.750  54.0960    843.75\n",
              "1212    fea6b438a           4            1  ...  2531.250  45.7653   4031.25\n",
              "1213    ff2eb9ce5           0            1  ...  5906.250  16.0213   8250.00\n",
              "1214    ffb8d8391           5            1  ...  4781.250  16.6987  10406.20\n",
              "1215    ffb9a7b9a          18            1  ...  3187.500  41.0133   5062.50\n",
              "\n",
              "[1216 rows x 7 columns]"
            ]
          },
          "metadata": {
            "tags": []
          },
          "execution_count": 7
        }
      ]
    },
    {
      "cell_type": "code",
      "metadata": {
        "colab": {
          "base_uri": "https://localhost:8080/"
        },
        "id": "DDnWWcy_cQ6n",
        "outputId": "8996173c-e1e3-4ca2-a036-15b7c3e04a8e"
      },
      "source": [
        "#Longest signal\n",
        "\n",
        "for idx, row in train_tp.iterrows():\n",
        "  max_len = 0\n",
        "  len = row['t_max'] - row['t_min']\n",
        "\n",
        "  if len > max_len:\n",
        "    max_len = len\n",
        "  \n",
        "print(max_len)"
      ],
      "execution_count": null,
      "outputs": [
        {
          "output_type": "stream",
          "text": [
            "0.6933000000000007\n"
          ],
          "name": "stdout"
        }
      ]
    },
    {
      "cell_type": "code",
      "metadata": {
        "id": "MzqiH6fkenob"
      },
      "source": [
        "#Slice training data (cut silence)\n",
        "\n",
        "def slice_train_audio(audio_data, sampling_rate, t_min, t_max, slice_len):\n",
        "    slice_center = (t_max*sampling_rate + t_min*sampling_rate) / 2\n",
        "    slice_start = (slice_center-slice_len) / 2\n",
        "\n",
        "    if slice_start < 0:\n",
        "        slice_start = 0\n",
        "\n",
        "    slice_end = (slice_center+slice_len) / 2\n",
        "\n",
        "    if slice_end < (60 * sampling_rate):\n",
        "        slice_end = 60 * sampling_rate\n",
        "\n",
        "    return audio_data[int(slice_start):int(slice_end)]"
      ],
      "execution_count": null,
      "outputs": []
    },
    {
      "cell_type": "markdown",
      "metadata": {
        "id": "log-E-ydemAp"
      },
      "source": [
        ""
      ]
    },
    {
      "cell_type": "code",
      "metadata": {
        "id": "BT09lP8B0Wxh"
      },
      "source": [
        "#Generate melspectrograms of cleaned training true positive audio data\n",
        "\n",
        "def train_data_gen(a=None, b=None):\n",
        "    sampling_rate = 48000\n",
        "    max_freq = 14000\n",
        "    slice_len = 5 * sampling_rate\n",
        "\n",
        "    for idx, row in train_tp.iloc[a:b].iterrows():\n",
        "        recording_id = row['recording_id']\n",
        "        t_max = row['t_max']\n",
        "        t_min = row['t_min']\n",
        "        f_min = row['f_min']\n",
        "        f_max = row['f_max']\n",
        "        label = row['species_id']\n",
        "        train_dir = '/content/drive/MyDrive/kaggle/rainforest2/train'\n",
        "        train_spects_dir = '/content/drive/MyDrive/kaggle/rainforest2/train_melspectrograms'\n",
        "        \n",
        "        #Read file\n",
        "        filename = f'{recording_id}.flac'\n",
        "        path = f'{train_dir}/{filename}'\n",
        "        \n",
        "        audio_data, sampling_rate = librosa.load(path, sr=sampling_rate)\n",
        "        \n",
        "        #Clean audio\n",
        "        #denoised_audio = denoise(audio_data, sampling_rate, t_min)\n",
        "        filtered_audio = bandpass_filter(audio_data, sampling_rate, f_min, f_max)\n",
        "        audio_slice = slice_train_audio(filtered_audio, sampling_rate, t_min, t_max, slice_len)\n",
        "        \n",
        "        #Generate melspectrograms\n",
        "        spectrogram = librosa.feature.melspectrogram(y=audio_slice, sr=sampling_rate, fmax=max_freq)\n",
        "        spectrogram = librosa.power_to_db(spectrogram)\n",
        "        img = librosa.display.specshow(spectrogram, sr=sampling_rate)\n",
        "        plt.savefig(f'{train_spects_dir}/s{str(label)}/{recording_id}.jpg')\n",
        "        \n",
        "        print(f'{idx} spectrograms generated')"
      ],
      "execution_count": null,
      "outputs": []
    },
    {
      "cell_type": "code",
      "metadata": {
        "id": "yzOqYZ-8jY-j"
      },
      "source": [
        "#Generate melspectrograms of test audio data\n",
        "\n",
        "def test_data_gen(a=None, b=None, name='gen0'):\n",
        "    sampling_rate = 48000\n",
        "    f_max = 13700\n",
        "    f_min = 93\n",
        "    slice_len = 5 * sampling_rate\n",
        "    n_slices = 12\n",
        "    test_dir = '/content/drive/MyDrive/kaggle/rainforest2/test'\n",
        "    test_spects_dir = '/content/drive/MyDrive/kaggle/rainforest2/test_melspectrograms'\n",
        "\n",
        "    for j, filename in enumerate(os.listdir(test_dir)[a:b]):\n",
        "        #Create folder\n",
        "        if os.path.exists(f'{test_spects_dir}/{filename[:-5]}'):\n",
        "            shutil.rmtree(f'{test_spects_dir}/{filename[:-5]}')\n",
        "\n",
        "        os.mkdir(f'{test_spects_dir}/{filename[:-5]}')\n",
        "        \n",
        "        #Read audio file\n",
        "        audio_data, sampling_rate = librosa.load(f'{test_dir}/{filename}', sr=sampling_rate)\n",
        "        \n",
        "        #Clean audio\n",
        "        filtered_audio = bandpass_filter(audio_data, sampling_rate, f_min, f_max)\n",
        "        \n",
        "        #Slice audio and generate melspectrograms\n",
        "        for i in range(n_slices):\n",
        "            audio_slice = audio_data[i*slice_len:(i+1)*slice_len]\n",
        "            spectrogram = librosa.feature.melspectrogram(y=audio_slice, sr=sampling_rate, fmax=14000)\n",
        "            spectrogram = librosa.power_to_db(spectrogram)\n",
        "            img = librosa.display.specshow(spectrogram, sr=sampling_rate)\n",
        "            plt.savefig(f'{test_spects_dir}/{filename[:-5]}/{i}.jpg')\n",
        "        \n",
        "        print(f'{name} {j+1} spectrograms generated')"
      ],
      "execution_count": null,
      "outputs": []
    },
    {
      "cell_type": "code",
      "metadata": {
        "colab": {
          "base_uri": "https://localhost:8080/"
        },
        "id": "X5ig4y_7-4HI",
        "outputId": "fc6726b2-6e0a-4d16-87eb-a64f011decca"
      },
      "source": [
        "p1 = mp.Process(target=test_data_gen, args=(1968, 1971, 'gen1933'))\n",
        "p2 = mp.Process(target=test_data_gen, args=(1970, 1975, 'gen1939'))\n",
        "\n",
        "p1.start()\n",
        "p2.start()\n",
        "\n",
        "p1.join()\n",
        "p2.join()"
      ],
      "execution_count": null,
      "outputs": [
        {
          "output_type": "stream",
          "text": [
            "gen1933 1 spectrograms generated\n",
            "gen1939 1 spectrograms generated\n",
            "gen1933 2 spectrograms generated\n",
            "gen1939 2 spectrograms generated\n",
            "gen1933 3 spectrograms generated\n",
            "gen1939 3 spectrograms generated\n",
            "gen1939 4 spectrograms generated\n",
            "gen1939 5 spectrograms generated\n"
          ],
          "name": "stdout"
        }
      ]
    },
    {
      "cell_type": "code",
      "metadata": {
        "id": "2x4AKDWDhTbW"
      },
      "source": [
        "def test_data_gen_fill(filename):\n",
        "    sampling_rate = 48000\n",
        "    f_max = 13700\n",
        "    f_min = 93\n",
        "    slice_len = 5 * sampling_rate\n",
        "    n_slices = 12\n",
        "    test_dir = '/content/drive/MyDrive/kaggle/rainforest2/test'\n",
        "    test_spects_dir = '/content/drive/MyDrive/kaggle/rainforest2/test_melspectrograms'\n",
        "    #filename = '5d6a40fcc'\n",
        "    #Create folder\n",
        "    if os.path.exists(f'{test_spects_dir}/{filename}'):\n",
        "        shutil.rmtree(f'{test_spects_dir}/{filename}')\n",
        "\n",
        "    os.mkdir(f'{test_spects_dir}/{filename}')\n",
        "        \n",
        "    #Read audio file\n",
        "    audio_data, sampling_rate = librosa.load(f'{test_dir}/{filename}.flac', sr=sampling_rate)\n",
        "        \n",
        "    #Clean audio\n",
        "    filtered_audio = bandpass_filter(audio_data, sampling_rate, f_min, f_max)\n",
        "        \n",
        "    #Slice audio and generate melspectrograms\n",
        "    for i in range(n_slices):\n",
        "        audio_slice = audio_data[i*slice_len:(i+1)*slice_len]\n",
        "        spectrogram = librosa.feature.melspectrogram(y=audio_slice, sr=sampling_rate, fmax=14000)\n",
        "        spectrogram = librosa.power_to_db(spectrogram)\n",
        "        img = librosa.display.specshow(spectrogram, sr=sampling_rate)\n",
        "        plt.savefig(f'{test_spects_dir}/{filename}/{i}.jpg')\n",
        "        \n",
        "        print(f'{i+1} spectrograms generated')"
      ],
      "execution_count": null,
      "outputs": []
    },
    {
      "cell_type": "code",
      "metadata": {
        "id": "53SJf2FWblWv"
      },
      "source": [
        "image_size = (432, 288)\n",
        "n_channels = 3\n",
        "n_labels = 24\n",
        "n_epochs = 20"
      ],
      "execution_count": null,
      "outputs": []
    },
    {
      "cell_type": "code",
      "metadata": {
        "colab": {
          "base_uri": "https://localhost:8080/"
        },
        "id": "CwUqSRCCKSt0",
        "outputId": "e9d371c3-6a73-4861-83a1-773cba8897a2"
      },
      "source": [
        "#Read cleaned train dataset\n",
        "\n",
        "train_dir = '/content/drive/MyDrive/kaggle/rainforest2/train_melspectrograms/'\n",
        "\n",
        "train_ds = preprocessing.image_dataset_from_directory(train_dir, image_size=image_size, labels='inferred', label_mode='categorical', validation_split=0.2, subset='training', seed=14)\n",
        "validation_ds = preprocessing.image_dataset_from_directory(train_dir, image_size=image_size, labels='inferred', label_mode='categorical', validation_split=0.2, subset='validation', seed=14)"
      ],
      "execution_count": null,
      "outputs": [
        {
          "output_type": "stream",
          "text": [
            "Found 1161 files belonging to 24 classes.\n",
            "Using 929 files for training.\n",
            "Found 1161 files belonging to 24 classes.\n",
            "Using 232 files for validation.\n"
          ],
          "name": "stdout"
        }
      ]
    },
    {
      "cell_type": "code",
      "metadata": {
        "colab": {
          "base_uri": "https://localhost:8080/"
        },
        "id": "zGp5mia8xzpD",
        "outputId": "4e1d038a-0c75-4194-afe0-699bb034fdf2"
      },
      "source": [
        "train_ds"
      ],
      "execution_count": null,
      "outputs": [
        {
          "output_type": "execute_result",
          "data": {
            "text/plain": [
              "<BatchDataset shapes: ((None, 432, 288, 3), (None, 24)), types: (tf.float32, tf.float32)>"
            ]
          },
          "metadata": {
            "tags": []
          },
          "execution_count": 7
        }
      ]
    },
    {
      "cell_type": "code",
      "metadata": {
        "id": "F9mx6MaiCNFM"
      },
      "source": [
        "resnet_base = applications.ResNet50V2(include_top=False, weights='imagenet', input_shape=(image_size[0], image_size[1], n_channels))"
      ],
      "execution_count": null,
      "outputs": []
    },
    {
      "cell_type": "code",
      "metadata": {
        "id": "RkCsJaRu9DnJ"
      },
      "source": [
        "#Model\n",
        "\n",
        "model = models.Sequential()\n",
        "\n",
        "#model.add(keras.Input(shape=(image_size[0], image_size[1], n_channels)))\n",
        "model.add(layers.experimental.preprocessing.Rescaling(scale=1./255))\n",
        "\n",
        "model.add(resnet_base)\n",
        "model.add(layers.AveragePooling2D(pool_size=(2, 2), padding='same'))\n",
        "\n",
        "model.add(layers.Flatten())\n",
        "model.add(layers.BatchNormalization())\n",
        "\n",
        "model.add(layers.Dense(1024, activation='relu'))\n",
        "model.add(layers.Dropout(0.2))\n",
        "\n",
        "model.add(layers.Dense(512, activation='relu'))\n",
        "model.add(layers.Dropout(0.2))\n",
        "\n",
        "model.add(layers.Dense(n_labels, activation='softmax'))\n",
        "\n",
        "optimizer = keras.optimizers.Adam(lr=0.001)\n",
        "\n",
        "model.compile(loss='categorical_crossentropy', optimizer=optimizer, metrics=['accuracy'])"
      ],
      "execution_count": null,
      "outputs": []
    },
    {
      "cell_type": "code",
      "metadata": {
        "id": "l5Nnlu0SNe2u"
      },
      "source": [
        "model.summary()"
      ],
      "execution_count": null,
      "outputs": []
    },
    {
      "cell_type": "code",
      "metadata": {
        "id": "yqnrTIcf-bD8"
      },
      "source": [
        "resnet_base.trainable = False"
      ],
      "execution_count": null,
      "outputs": []
    },
    {
      "cell_type": "code",
      "metadata": {
        "id": "5Pzcw2kY0hC6"
      },
      "source": [
        "#Model\n",
        "\n",
        "model = models.Sequential()\n",
        "\n",
        "model.add(layers.experimental.preprocessing.Rescaling(scale=1./255))\n",
        "model.add(layers.Conv2D(filters=32, kernel_size=(3, 3), input_shape=(image_size[0], image_size[1], n_channels), activation='relu'))\n",
        "model.add(layers.MaxPooling2D(pool_size=(2, 2)))\n",
        "#model.add(layers.Dropout(0.2))\n",
        "\n",
        "#model.add(layers.Conv2D(filters=32, kernel_size=(3, 3), activation='relu'))\n",
        "#model.add(layers.MaxPooling2D(pool_size=(2, 2)))\n",
        "#model.add(layers.Dropout(0.2))\n",
        "\n",
        "model.add(layers.Conv2D(filters=64, kernel_size=(2, 2), activation='relu'))\n",
        "model.add(layers.MaxPooling2D(pool_size=(2, 2)))\n",
        "#model.add(layers.Dropout(0.2))\n",
        "\n",
        "model.add(layers.Conv2D(filters=128, kernel_size=(2, 2), activation='relu'))\n",
        "model.add(layers.MaxPooling2D(pool_size=(2, 2)))\n",
        "model.add(layers.Dropout(0.2))\n",
        "\n",
        "model.add(layers.Flatten())\n",
        "model.add(layers.Dense(128, activation='relu'))\n",
        "model.add(layers.Dense(n_labels, activation='relu'))\n",
        "\n",
        "model.compile(loss='categorical_crossentropy', optimizer='adam', metrics=['accuracy'])"
      ],
      "execution_count": null,
      "outputs": []
    },
    {
      "cell_type": "code",
      "metadata": {
        "id": "kkeqH8T9rlQR"
      },
      "source": [
        "training_history = model.fit(train_ds, epochs=20, batch_size=32, validation_data=validation_ds)"
      ],
      "execution_count": null,
      "outputs": []
    },
    {
      "cell_type": "code",
      "metadata": {
        "colab": {
          "base_uri": "https://localhost:8080/"
        },
        "id": "e96i-tey0PRE",
        "outputId": "c81116b3-78a5-4d8f-ac2f-6d2ac58c2e57"
      },
      "source": [
        "model.save('/content/drive/MyDrive/kaggle/rainforest2/')"
      ],
      "execution_count": null,
      "outputs": [
        {
          "output_type": "stream",
          "text": [
            "INFO:tensorflow:Assets written to: /content/drive/MyDrive/kaggle/rainforest2/assets\n"
          ],
          "name": "stdout"
        }
      ]
    },
    {
      "cell_type": "code",
      "metadata": {
        "colab": {
          "base_uri": "https://localhost:8080/",
          "height": 279
        },
        "id": "IzExe5Aj0Pog",
        "outputId": "dbd71839-1821-42d3-fe9f-97ad4b2a80fa"
      },
      "source": [
        "epochs = range(0, n_epochs)\n",
        "train_accuracy = training_history.history['accuracy']\n",
        "val_accuracy= training_history.history['val_accuracy']\n",
        "\n",
        "plt.plot(epochs, val_accuracy, 'b+', label='Validation')\n",
        "plt.plot(epochs, train_accuracy, 'bo', label='Training')\n",
        "plt.xlabel('Epochs')\n",
        "plt.ylabel('Validation accuracy')\n",
        "plt.legend()\n",
        "\n",
        "plt.show()"
      ],
      "execution_count": null,
      "outputs": [
        {
          "output_type": "display_data",
          "data": {
            "image/png": "[encoded data removed]",
            "text/plain": [
              "<Figure size 432x288 with 1 Axes>"
            ]
          },
          "metadata": {
            "tags": [],
            "needs_background": "light"
          }
        }
      ]
    },
    {
      "cell_type": "markdown",
      "metadata": {
        "id": "RUJfhdnThHHG"
      },
      "source": [
        "# Test data"
      ]
    },
    {
      "cell_type": "code",
      "metadata": {
        "id": "XnselFwRz0h3"
      },
      "source": [
        "#Predict\n",
        "\n",
        "y_pred = pd.DataFrame()\n",
        "test_dir = '/content/drive/MyDrive/kaggle/rainforest2/test_melspectrograms/'\n",
        "subdirs = [x[0] for x in os.walk(test_dir)]\n",
        "\n",
        "for i, subdir in enumerate(subdirs[1:]):\n",
        "    recording_id = subdir[63:]\n",
        "    files = os.walk(subdir).__next__()[2]\n",
        "    max_values = np.zeros(24)\n",
        "\n",
        "    for file in files:\n",
        "        img = Image.open(f'{subdir}/{file}')\n",
        "        data = np.asarray(img)\n",
        "        data = np.swapaxes(data, 0, 1)\n",
        "        data = data[np.newaxis, ...]\n",
        "        pred = model(data).numpy()\n",
        "        \n",
        "        if max_values[np.argmax(pred)] < pred[0,np.argmax(pred)]:\n",
        "            max_values[np.argmax(pred)] = pred[0,np.argmax(pred)]\n",
        "\n",
        "    row = pd.DataFrame({'recording_id' : [recording_id], \n",
        "                        's0' : [max_values[0]], 's1' : [max_values[1]],\n",
        "                        's2' : [max_values[2]], 's3' : [max_values[3]],\n",
        "                        's4' : [max_values[4]], 's5' : [max_values[5]],\n",
        "                        's6' : [max_values[6]], 's7' : [max_values[7]],\n",
        "                        's8' : [max_values[8]], 's9' : [max_values[9]],\n",
        "                        's10' : [max_values[10]], 's11' : [max_values[11]],\n",
        "                        's12' : [max_values[12]], 's13' : [max_values[13]],\n",
        "                        's14' : [max_values[14]], 's15' : [max_values[15]],\n",
        "                        's16' : [max_values[16]], 's17' : [max_values[17]],\n",
        "                        's18' : [max_values[18]], 's19' : [max_values[19]],\n",
        "                        's20' : [max_values[20]], 's21' : [max_values[21]],\n",
        "                        's22' : [max_values[22]], 's23' : [max_values[23]]})\n",
        "    \n",
        "    print(data.shape)\n",
        "    print(f'{i} predicted')\n",
        "    y_pred = y_pred.append(row, ignore_index=True)\n",
        "    \n",
        "print(y_pred)"
      ],
      "execution_count": null,
      "outputs": []
    },
    {
      "cell_type": "code",
      "metadata": {
        "id": "IjAcUwcBwJrt"
      },
      "source": [
        "y_pred.to_csv(path_or_buf='/content/drive/MyDrive/kaggle/rainforest2/y_pred2.csv', index=False)"
      ],
      "execution_count": null,
      "outputs": []
    },
    {
      "cell_type": "code",
      "metadata": {
        "id": "ZmTCe7SBzcHr"
      },
      "source": [
        ""
      ],
      "execution_count": null,
      "outputs": []
    }
  ]
}